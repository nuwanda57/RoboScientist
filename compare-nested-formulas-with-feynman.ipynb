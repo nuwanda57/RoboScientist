{
 "cells": [
  {
   "cell_type": "code",
   "execution_count": 3,
   "metadata": {
    "ExecuteTime": {
     "end_time": "2020-06-01T09:10:36.172709Z",
     "start_time": "2020-06-01T09:10:35.033045Z"
    }
   },
   "outputs": [],
   "source": [
    "from learning_agent import robo_scientist\n",
    "from theories import theory_feynman\n",
    "from theories import theory_polynomial1D\n",
    "from theories import theory_polynomial2D\n",
    "from theories import theory_nested_formulas\n",
    "from theories import theory_master\n",
    "from environments import ohm_law, single_param_linear_law, env_1, sin, tg, arcsin, cos, env_2\n",
    "from data_generator import simple_generator, std_generator\n",
    "import os\n",
    "import matplotlib.pyplot as plt\n",
    "import numpy as np\n",
    "import seaborn as sns\n",
    "sns.set(context=\"paper\", style=\"whitegrid\", font_scale=2)\n"
   ]
  },
  {
   "cell_type": "code",
   "execution_count": 4,
   "metadata": {
    "ExecuteTime": {
     "end_time": "2020-06-01T09:10:36.176557Z",
     "start_time": "2020-06-01T09:10:36.174096Z"
    }
   },
   "outputs": [],
   "source": [
    "feynman_dir = os.path.join(os.getcwd(), 'theories/feynman/')\n",
    "working_dirs = {\n",
    "    theory_feynman.TheoryFeynman: feynman_dir,\n",
    "}"
   ]
  },
  {
   "cell_type": "code",
   "execution_count": 5,
   "metadata": {
    "ExecuteTime": {
     "end_time": "2020-06-01T09:10:36.215888Z",
     "start_time": "2020-06-01T09:10:36.179064Z"
    }
   },
   "outputs": [],
   "source": [
    "class Analyser(object):\n",
    "    def stats_for_env(self, filename, env_cls, theories_with_params,\n",
    "                      env_params, iterations_count, labels=None, maketitle=True):\n",
    "        feynman_dir = os.path.join(os.getcwd(), 'theories/feynman/')\n",
    "        working_dirs = {\n",
    "            theory_feynman.TheoryFeynman: feynman_dir,\n",
    "        }\n",
    "        rs = robo_scientist.RoboScientist(working_dirs, keep_full_history=True)\n",
    "        mses = {}\n",
    "        for t_with_params in theories_with_params:\n",
    "            t, t_params = t_with_params[0], t_with_params[1]\n",
    "            print(t)\n",
    "            include_derivatives = (t == theory_polynomial1D.TheoryPolynomial1D\n",
    "                                   or\n",
    "                                   t == theory_polynomial2D.TheoryPolynomial2D)\n",
    "            env = env_cls(**env_params,\n",
    "                          include_derivatives=include_derivatives)\n",
    "            gen = simple_generator.SimpleGenerator\n",
    "            if t == theory_master.MasterTheory:\n",
    "                gen = std_generator.STDGenerator\n",
    "            rs.explore_environment(env, t, gen,\n",
    "                                   iterations_count, t_params)\n",
    "            h = rs.get_history_for_exploration_key(\n",
    "                robo_scientist.ExplorationKey(env_cls.__name__, t.__name__))\n",
    "            mses[(t.__name__, str(t_params))] = np.array([a.mse for a in h])\n",
    "            print(t.__name__, str(t_params))\n",
    "\n",
    "        colors = ['r', 'g', 'b', 'purple', 'black', 'tan', 'turquoise']\n",
    "        f = plt.figure(figsize=(18, 8), dpi=100)\n",
    "        inf = 80\n",
    "        for i in range(len(mses)):\n",
    "            m = mses[(theories_with_params[i][0].__name__,\n",
    "                      str(theories_with_params[i][1]))]\n",
    "            log_mses = np.where(m > 0, np.log(m), -inf)\n",
    "            if labels is not None:\n",
    "                plt.plot(log_mses,\n",
    "                         c=colors[i],\n",
    "                         label=labels[i])\n",
    "            else:\n",
    "                plt.plot(log_mses,\n",
    "                         c=colors[i],\n",
    "                         label='{}, params: {}'.format(\n",
    "                             theories_with_params[i][0].__name__,\n",
    "                             theories_with_params[i][1]))\n",
    "        if maketitle:\n",
    "            plt.title('Environment: {}, params: {}'.format(env_cls.__name__,\n",
    "                                                           env_params))\n",
    "        plt.xlabel('iterations count (dataset size)')\n",
    "        plt.ylabel('log MSE')\n",
    "        plt.legend()\n",
    "        #         plt.tick_params(labelsize=15)\n",
    "        plt.tight_layout()\n",
    "        f.savefig(filename, dpi=f.dpi)\n",
    "        plt.show()"
   ]
  },
  {
   "cell_type": "code",
   "execution_count": 6,
   "metadata": {
    "ExecuteTime": {
     "end_time": "2020-06-01T09:10:36.229225Z",
     "start_time": "2020-06-01T09:10:36.217411Z"
    }
   },
   "outputs": [],
   "source": [
    "a = Analyser()"
   ]
  },
  {
   "cell_type": "code",
   "execution_count": 7,
   "metadata": {
    "ExecuteTime": {
     "end_time": "2020-06-01T09:11:13.571604Z",
     "start_time": "2020-06-01T09:10:36.230703Z"
    }
   },
   "outputs": [],
   "source": [
    "# theories = [\n",
    "#     (theory_feynman.TheoryFeynman, {}), \n",
    "# #     (theory_nested_formulas.TheoryNestedFormula, {}),\n",
    "# #     (theory_polynomial1D.TheoryPolynomial1D, \n",
    "# #      {'polynomial_type': 'Fourier', 'polynomial_cnt': 5}),\n",
    "# #     (theory_polynomial1D.TheoryPolynomial1D, \n",
    "# #      {'polynomial_type': 'Chebyshev', 'polynomial_cnt': 2}),\n",
    "# #     (theory_polynomial1D.TheoryPolynomial1D, \n",
    "# #      {'polynomial_type': 'Chebyshev', 'polynomial_cnt': 3}),\n",
    "#     (theory_polynomial1D.TheoryPolynomial1D, \n",
    "#      {'polynomial_type': 'Chebyshev', 'polynomial_cnt': 4}),\n",
    "#     (theory_polynomial1D.TheoryPolynomial1D, \n",
    "#      {'polynomial_type': 'Fourier', 'polynomial_cnt': 7}),\n",
    "#     (theory_polynomial1D.TheoryPolynomial1D, \n",
    "#      {'polynomial_type': 'Fourier', 'polynomial_cnt': 12}),\n",
    "# #     (theory_polynomial1D.TheoryPolynomial1D, \n",
    "# #      {'polynomial_type': 'Chebyshev', 'polynomial_cnt': 6}),\n",
    "# #     (theory_polynomial1D.TheoryPolynomial1D, \n",
    "# #      {'polynomial_type': 'Chebyshev', 'polynomial_cnt': 8}),\n",
    "# #     (theory_polynomial1D.TheoryPolynomial1D, \n",
    "# #      {'polynomial_type': 'Chebyshev', 'polynomial_cnt': 10}),\n",
    "# #     (theory_polynomial1D.TheoryPolynomial1D, \n",
    "# #      {'polynomial_type': 'Chebyshev', 'polynomial_cnt': 20}),\n",
    "# ]\n",
    "\n",
    "# a.stats_for_env('f1', ohm_law.OhmLawEnvironment, theories, {'resistance': 0.57}, 100)"
   ]
  },
  {
   "cell_type": "code",
   "execution_count": 8,
   "metadata": {
    "ExecuteTime": {
     "end_time": "2020-06-01T09:11:13.577257Z",
     "start_time": "2020-06-01T09:11:13.573146Z"
    }
   },
   "outputs": [],
   "source": [
    "p_values = [10, 20]\n",
    "master_theories = [\n",
    "    (\n",
    "        theory_master.MasterTheory, \n",
    "        {\"theories_with_params\": [\n",
    "            (theory_nested_formulas.TheoryNestedFormula, None) for i in range(p)\n",
    "        ]}\n",
    "    ) for p in p_values\n",
    "]\n",
    "\n",
    "theories = [\n",
    "    (theory_feynman.TheoryFeynman, {'BF_try_time': 5}),\n",
    "    (theory_nested_formulas.TheoryNestedFormula, {})\n",
    "] + master_theories\n",
    "\n",
    "labels = [\n",
    "    \"AI Feynman\", \"nested formula of depth 1, random design\"\n",
    "] + [\n",
    "    \"Master nested formulas of depth {}, design based on maximal variance\".format(p) for p in p_values\n",
    "]"
   ]
  },
  {
   "cell_type": "code",
   "execution_count": null,
   "metadata": {
    "ExecuteTime": {
     "end_time": "2020-06-01T09:11:36.265702Z",
     "start_time": "2020-06-01T09:11:13.578966Z"
    }
   },
   "outputs": [
    {
     "name": "stdout",
     "output_type": "stream",
     "text": [
      "<class 'theories.theory_feynman.TheoryFeynman'>\n",
      "TheoryFeynman {'BF_try_time': 5}\n",
      "<class 'theories.theory_nested_formulas.TheoryNestedFormula'>\n",
      "TheoryNestedFormula {}\n",
      "<class 'theories.theory_master.MasterTheory'>\n"
     ]
    },
    {
     "name": "stderr",
     "output_type": "stream",
     "text": [
      "/Users/juliasemavina/anaconda3/lib/python3.7/site-packages/sklearn/metrics/_regression.py:256: RuntimeWarning: overflow encountered in square\n",
      "  output_errors = np.average((y_true - y_pred) ** 2, axis=0,\n"
     ]
    },
    {
     "name": "stdout",
     "output_type": "stream",
     "text": [
      "MasterTheory {'theories_with_params': [(<class 'theories.theory_nested_formulas.TheoryNestedFormula'>, None), (<class 'theories.theory_nested_formulas.TheoryNestedFormula'>, None), (<class 'theories.theory_nested_formulas.TheoryNestedFormula'>, None), (<class 'theories.theory_nested_formulas.TheoryNestedFormula'>, None), (<class 'theories.theory_nested_formulas.TheoryNestedFormula'>, None), (<class 'theories.theory_nested_formulas.TheoryNestedFormula'>, None), (<class 'theories.theory_nested_formulas.TheoryNestedFormula'>, None), (<class 'theories.theory_nested_formulas.TheoryNestedFormula'>, None), (<class 'theories.theory_nested_formulas.TheoryNestedFormula'>, None), (<class 'theories.theory_nested_formulas.TheoryNestedFormula'>, None)]}\n",
      "<class 'theories.theory_master.MasterTheory'>\n"
     ]
    },
    {
     "name": "stderr",
     "output_type": "stream",
     "text": [
      "/Users/juliasemavina/anaconda3/lib/python3.7/site-packages/sklearn/metrics/_regression.py:256: RuntimeWarning: overflow encountered in square\n",
      "  output_errors = np.average((y_true - y_pred) ** 2, axis=0,\n",
      "/Users/juliasemavina/anaconda3/lib/python3.7/site-packages/sklearn/metrics/_regression.py:256: RuntimeWarning: overflow encountered in square\n",
      "  output_errors = np.average((y_true - y_pred) ** 2, axis=0,\n",
      "/Users/juliasemavina/anaconda3/lib/python3.7/site-packages/sklearn/metrics/_regression.py:256: RuntimeWarning: overflow encountered in square\n",
      "  output_errors = np.average((y_true - y_pred) ** 2, axis=0,\n",
      "/Users/juliasemavina/anaconda3/lib/python3.7/site-packages/sklearn/metrics/_regression.py:256: RuntimeWarning: overflow encountered in square\n",
      "  output_errors = np.average((y_true - y_pred) ** 2, axis=0,\n",
      "/Users/juliasemavina/anaconda3/lib/python3.7/site-packages/sklearn/metrics/_regression.py:256: RuntimeWarning: overflow encountered in square\n",
      "  output_errors = np.average((y_true - y_pred) ** 2, axis=0,\n"
     ]
    }
   ],
   "source": [
    "available_environments = [\n",
    "    ohm_law.OhmLawEnvironment, single_param_linear_law.LinearLawEnvironment, \n",
    "    env_1.Environment1, sin.SinEnvironment, tg.TgEnvironment, \n",
    "    arcsin.ArcsinEnvironment, cos.CosEnvironment, env_2.Environment2\n",
    "]\n",
    "params = [\n",
    "    {\"resistance\": 0.57}, {\"a\": 12, \"b\": 44}, \n",
    "    {}, {}, {},\n",
    "    {}, {}, {},\n",
    "]\n",
    "filenames = [ \n",
    "    \"env1\", \"sin\", \"tg\",\n",
    "    \"arcsin\", \"cos\", \"env2\"\n",
    "]\n",
    "for i, available_environment in enumerate(available_environments):\n",
    "    a.stats_for_env(filenames[i], available_environment, theories, params[i], \n",
    "                    100, labels=labels, maketitle=False)    "
   ]
  },
  {
   "cell_type": "code",
   "execution_count": null,
   "metadata": {},
   "outputs": [],
   "source": []
  },
  {
   "cell_type": "code",
   "execution_count": null,
   "metadata": {},
   "outputs": [],
   "source": []
  }
 ],
 "metadata": {
  "kernelspec": {
   "display_name": "Python 3",
   "language": "python",
   "name": "python3"
  },
  "language_info": {
   "codemirror_mode": {
    "name": "ipython",
    "version": 3
   },
   "file_extension": ".py",
   "mimetype": "text/x-python",
   "name": "python",
   "nbconvert_exporter": "python",
   "pygments_lexer": "ipython3",
   "version": "3.7.1"
  },
  "toc": {
   "base_numbering": 1,
   "nav_menu": {},
   "number_sections": true,
   "sideBar": true,
   "skip_h1_title": false,
   "title_cell": "Table of Contents",
   "title_sidebar": "Contents",
   "toc_cell": false,
   "toc_position": {},
   "toc_section_display": true,
   "toc_window_display": false
  },
  "varInspector": {
   "cols": {
    "lenName": 16,
    "lenType": 16,
    "lenVar": 40
   },
   "kernels_config": {
    "python": {
     "delete_cmd_postfix": "",
     "delete_cmd_prefix": "del ",
     "library": "var_list.py",
     "varRefreshCmd": "print(var_dic_list())"
    },
    "r": {
     "delete_cmd_postfix": ") ",
     "delete_cmd_prefix": "rm(",
     "library": "var_list.r",
     "varRefreshCmd": "cat(var_dic_list()) "
    }
   },
   "types_to_exclude": [
    "module",
    "function",
    "builtin_function_or_method",
    "instance",
    "_Feature"
   ],
   "window_display": false
  }
 },
 "nbformat": 4,
 "nbformat_minor": 4
}
